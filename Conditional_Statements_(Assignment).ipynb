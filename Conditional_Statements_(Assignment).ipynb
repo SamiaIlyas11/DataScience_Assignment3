{
  "cells": [
    {
      "cell_type": "markdown",
      "metadata": {
        "id": "C9klpJIV8ieH"
      },
      "source": [
        "1) A company decided to give bonus of 5% to employee if his/her year of service is more than 5 years.\n",
        "Ask user for their salary and year of service and print the net bonus amount."
      ]
    },
    {
      "cell_type": "code",
      "execution_count": 3,
      "metadata": {
        "id": "9V5eruDA8ieK",
        "colab": {
          "base_uri": "https://localhost:8080/"
        },
        "outputId": "c6d64dc2-0062-40bd-d852-2ccdbe4243c9"
      },
      "outputs": [
        {
          "output_type": "stream",
          "name": "stdout",
          "text": [
            "Enter your salary: 55000\n",
            "Enter your years of service: 6\n",
            "Your net bonus amount is: 2750.00 \n",
            "Your total salary: 57750.0\n"
          ]
        }
      ],
      "source": [
        "salary = float(input(\"Enter your salary: \"))\n",
        "years_of_service = int(input(\"Enter your years of service: \"))\n",
        "\n",
        "if years_of_service > 5:\n",
        "    bonus = 0.05 * salary\n",
        "    print(f\"Your net bonus amount is: {bonus:.2f} \\nYour total salary: {bonus+salary}\")\n",
        "else:\n",
        "    print(\"No bonus given as the years of service are less than 5.\")\n"
      ]
    },
    {
      "cell_type": "markdown",
      "metadata": {
        "id": "pk3pKhQX8ieL"
      },
      "source": [
        "\n",
        "2) Write a program to check whether a person is eligible for voting or not. (accept age from user) if age is greater than 17 eligible otherwise not eligible"
      ]
    },
    {
      "cell_type": "code",
      "execution_count": 3,
      "metadata": {
        "id": "ijWxTAze8ieL",
        "colab": {
          "base_uri": "https://localhost:8080/"
        },
        "outputId": "64d11488-2135-4a4e-b4e3-47fde53787e2"
      },
      "outputs": [
        {
          "output_type": "stream",
          "name": "stdout",
          "text": [
            "Enter your age: 22\n",
            "You are eligible to vote.\n"
          ]
        }
      ],
      "source": [
        "age = int(input(\"Enter your age: \"))\n",
        "if age > 17:\n",
        "    print(\"You are eligible to vote.\")\n",
        "else:\n",
        "    print(\"You are not eligible to vote.\")\n"
      ]
    },
    {
      "cell_type": "markdown",
      "metadata": {
        "id": "ntEUTTyv8ieL"
      },
      "source": [
        "\n",
        "3) Write a program to check whether a number entered by user is even or odd."
      ]
    },
    {
      "cell_type": "code",
      "execution_count": 4,
      "metadata": {
        "id": "SViKzBg08ieM",
        "colab": {
          "base_uri": "https://localhost:8080/"
        },
        "outputId": "5968302d-1bb2-4a7f-ad1d-1cee23b657f4"
      },
      "outputs": [
        {
          "output_type": "stream",
          "name": "stdout",
          "text": [
            "Enter a number: 22\n",
            "22 is even.\n"
          ]
        }
      ],
      "source": [
        "num = int(input(\"Enter a number: \"))\n",
        "if num % 2 == 0:\n",
        "    print(f\"{num} is even.\")\n",
        "else:\n",
        "    print(f\"{num} is odd.\")\n"
      ]
    },
    {
      "cell_type": "markdown",
      "metadata": {
        "id": "R7peis2H8ieM"
      },
      "source": [
        "4) Write a program to check whether a number is divisible by 7 or not.\n",
        "Show Answer"
      ]
    },
    {
      "cell_type": "code",
      "execution_count": 5,
      "metadata": {
        "id": "B4hhdmfg8ieM",
        "colab": {
          "base_uri": "https://localhost:8080/"
        },
        "outputId": "4c272d46-7ee9-4c85-9a60-e069cbf8bcaf"
      },
      "outputs": [
        {
          "output_type": "stream",
          "name": "stdout",
          "text": [
            "Enter a number: 77\n",
            "77 is divisible by 7\n"
          ]
        }
      ],
      "source": [
        "num = int(input(\"Enter a number: \"))\n",
        "if num % 7 == 0:\n",
        "    print(f\"{num} is divisible by 7\")\n",
        "else:\n",
        "    print(f\"{num} is not divisible by 7\")\n"
      ]
    },
    {
      "cell_type": "markdown",
      "metadata": {
        "id": "3oVZICmb8ieM"
      },
      "source": [
        "5) Write a program to display\n",
        "\"Hello\" if a number entered by user is a multiple of five , otherwise print \"Bye\"."
      ]
    },
    {
      "cell_type": "code",
      "execution_count": 6,
      "metadata": {
        "id": "ZJsuzGfb8ieN",
        "colab": {
          "base_uri": "https://localhost:8080/"
        },
        "outputId": "26ddb8fc-55fe-4df3-f207-e972614b52d0"
      },
      "outputs": [
        {
          "output_type": "stream",
          "name": "stdout",
          "text": [
            "Enter a number: 50\n",
            "Hello\n"
          ]
        }
      ],
      "source": [
        "num = int(input(\"Enter a number: \"))\n",
        "if num % 5 == 0:\n",
        "    print(\"Hello\")\n",
        "else:\n",
        "    print(\"Bye\")\n"
      ]
    },
    {
      "cell_type": "markdown",
      "metadata": {
        "id": "pyDyuOfk8ieN"
      },
      "source": [
        "7) Write a program to display the last digit of a number.\n"
      ]
    },
    {
      "cell_type": "code",
      "execution_count": 7,
      "metadata": {
        "id": "9ZYK9rtc8ieN",
        "colab": {
          "base_uri": "https://localhost:8080/"
        },
        "outputId": "7e305ec1-e7ea-4757-c134-2b46d62b2dad"
      },
      "outputs": [
        {
          "output_type": "stream",
          "name": "stdout",
          "text": [
            "Enter a number: 2598\n",
            "Last digit of the number is: 8\n"
          ]
        }
      ],
      "source": [
        "num = input(\"Enter a number: \")\n",
        "lastdigit = num[-1]\n",
        "print(\"Last digit of the number is:\", lastdigit)\n"
      ]
    },
    {
      "cell_type": "markdown",
      "metadata": {
        "id": "1a9NUcit8ieN"
      },
      "source": [
        "9) Take values of length and breadth of a rectangle from user and print if it is square or rectangle."
      ]
    },
    {
      "cell_type": "code",
      "execution_count": 8,
      "metadata": {
        "id": "gqsOVkBo8ieO",
        "colab": {
          "base_uri": "https://localhost:8080/"
        },
        "outputId": "d3fc58a1-5302-4201-ed69-7b6d5030e7f0"
      },
      "outputs": [
        {
          "output_type": "stream",
          "name": "stdout",
          "text": [
            "Length of the rectangle: 20\n",
            "Breadth of the rectangle: 10\n",
            "It is a rectangle.\n"
          ]
        }
      ],
      "source": [
        "length = float(input(\"Length of the rectangle: \"))\n",
        "breadth = float(input(\"Breadth of the rectangle: \"))\n",
        "\n",
        "if length == breadth:\n",
        "    print(\"It is a square.\")\n",
        "else:\n",
        "    print(\"It is a rectangle.\")\n"
      ]
    },
    {
      "cell_type": "markdown",
      "metadata": {
        "id": "d3TjhKA18ieO"
      },
      "source": [
        "10) Take two int values from user and print greatest among them."
      ]
    },
    {
      "cell_type": "code",
      "execution_count": 9,
      "metadata": {
        "id": "UYlO1ICH8ieO",
        "colab": {
          "base_uri": "https://localhost:8080/"
        },
        "outputId": "870936a6-b7eb-469d-c734-f8e71e9529f2"
      },
      "outputs": [
        {
          "output_type": "stream",
          "name": "stdout",
          "text": [
            "First integer: 5\n",
            "Second integer: 2\n",
            "The greatest number is 5.\n"
          ]
        }
      ],
      "source": [
        "num1 = int(input(\"First integer: \"))\n",
        "num2 = int(input(\"Second integer: \"))\n",
        "\n",
        "if num1 > num2:\n",
        "    print(f\"The greatest number is {num1}.\")\n",
        "elif num2 > num1:\n",
        "    print(f\"The greatest number is {num2}.\")\n",
        "else:\n",
        "    print(\"Both numbers are equal.\")\n"
      ]
    },
    {
      "cell_type": "markdown",
      "metadata": {
        "id": "nZyXffRL8ieO"
      },
      "source": [
        "11) A shop will give discount of 10% if the cost of purchased quantity is more than 1000.\n",
        "Ask user for quantity\n",
        "Suppose, one unit will cost 100.\n",
        "Judge and print total cost for user."
      ]
    },
    {
      "cell_type": "code",
      "execution_count": 11,
      "metadata": {
        "id": "f4o-lH1s8ieO",
        "colab": {
          "base_uri": "https://localhost:8080/"
        },
        "outputId": "37c05024-adf6-4dc0-a185-443b06935ca6"
      },
      "outputs": [
        {
          "output_type": "stream",
          "name": "stdout",
          "text": [
            "Enter the quantity of items you want to purchase: 250\n",
            "A 10% discount has been applied. Your total cost is: 22500.00\n"
          ]
        }
      ],
      "source": [
        "quantity = int(input(\"Enter the quantity of items you want to purchase: \"))\n",
        "unitcost = 100\n",
        "\n",
        "totalcost = quantity * unitcost\n",
        "if totalcost > 1000:\n",
        "    discount = totalcost * 0.10\n",
        "    totalcost -= discount\n",
        "    print(f\"A 10% discount has been applied. Your total cost is: {totalcost:.2f}\")\n",
        "else:\n",
        "    print(f\"No discount applicable. Your total cost is: {totalcost:.2f}\")\n"
      ]
    },
    {
      "cell_type": "markdown",
      "metadata": {
        "id": "xq4EIHAr8ieP"
      },
      "source": [
        "12) A school has following rules for grading system:\n",
        "\n",
        "a. Below 25 - F\n",
        "\n",
        "b. 25 to 45 - E\n",
        "\n",
        "c. 45 to 50 - D\n",
        "\n",
        "d. 50 to 60 - C\n",
        "\n",
        "e. 60 to 80 - B\n",
        "\n",
        "f. Above 80 - A\n",
        "\n",
        "Ask user to enter marks and print the corresponding grade."
      ]
    },
    {
      "cell_type": "code",
      "execution_count": 12,
      "metadata": {
        "id": "mVKEA-9c8ieP",
        "colab": {
          "base_uri": "https://localhost:8080/"
        },
        "outputId": "9df25cd9-dc89-4c2d-cc72-461e185e4441"
      },
      "outputs": [
        {
          "output_type": "stream",
          "name": "stdout",
          "text": [
            "Enter your marks: 67\n",
            "Grade: B\n"
          ]
        }
      ],
      "source": [
        "marks = int(input(\"Enter your marks: \"))\n",
        "\n",
        "if marks < 25:\n",
        "    grade = 'F'\n",
        "elif marks >= 25 and marks < 45:\n",
        "    grade = 'E'\n",
        "elif marks >= 45 and marks < 50:\n",
        "    grade = 'D'\n",
        "elif marks >= 50 and marks < 60:\n",
        "    grade = 'C'\n",
        "elif marks >= 60 and marks < 80:\n",
        "    grade = 'B'\n",
        "elif marks >= 80:\n",
        "    grade = 'A'\n",
        "\n",
        "print(f\"Grade: {grade}\")\n"
      ]
    },
    {
      "cell_type": "markdown",
      "metadata": {
        "id": "RPFFSsF08ieP"
      },
      "source": [
        "14)A student will not be allowed to sit in exam if his/her attendence is less than 75%.\n",
        "\n",
        "Take following input from user\n",
        "\n",
        "Number of classes held\n",
        "\n",
        "Number of classes attended.\n",
        "\n",
        "And print\n",
        "\n",
        "percentage of class attended\n",
        "\n",
        "Is student is allowed to sit in exam or not.\n"
      ]
    },
    {
      "cell_type": "code",
      "execution_count": 13,
      "metadata": {
        "id": "-JlA0ARl8ieP",
        "colab": {
          "base_uri": "https://localhost:8080/"
        },
        "outputId": "08509a30-6ba8-4408-e5ca-3712d906512e"
      },
      "outputs": [
        {
          "output_type": "stream",
          "name": "stdout",
          "text": [
            "Enter the total number of classes held: 6\n",
            "Enter the number of classes you have attended: 5\n",
            "Percentage of classes attended: 83.33%\n",
            "Allowed to sit in the exam.\n"
          ]
        }
      ],
      "source": [
        "classes_held = int(input(\"Enter the total number of classes held: \"))\n",
        "classes_attended = int(input(\"Enter the number of classes you have attended: \"))\n",
        "\n",
        "attendance_percentage = (classes_attended / classes_held) * 100\n",
        "\n",
        "print(f\"Percentage of classes attended: {attendance_percentage:.2f}%\")\n",
        "\n",
        "if attendance_percentage >= 75:\n",
        "    print(\"Allowed to sit in the exam.\")\n",
        "else:\n",
        "    print(\"Not allowed to sit in the exam.\")\n"
      ]
    },
    {
      "cell_type": "markdown",
      "metadata": {
        "id": "J_EZhwVD8ieP"
      },
      "source": [
        "15) Modify the above question to allow student to sit if he/she has medical cause. Ask user if he/she has medical cause or not ( 'Y' or 'N' ) and print accordingly."
      ]
    },
    {
      "cell_type": "code",
      "execution_count": 16,
      "metadata": {
        "id": "qqvO0aRK8ieQ",
        "colab": {
          "base_uri": "https://localhost:8080/"
        },
        "outputId": "efe2c708-6d80-41ed-b92d-8e96b411ce92"
      },
      "outputs": [
        {
          "output_type": "stream",
          "name": "stdout",
          "text": [
            "Enter the total number of classes held: 6\n",
            "Enter the number of classes you have attended: 2\n",
            "Percentage of classes attended: 33.33%\n",
            "Do you have a medical cause for low attendance? (Y/N): Y\n",
            "Allowed to sit in the exam.\n"
          ]
        }
      ],
      "source": [
        "classes_held = int(input(\"Enter the total number of classes held: \"))\n",
        "classes_attended = int(input(\"Enter the number of classes you have attended: \"))\n",
        "\n",
        "attendance_percentage = (classes_attended / classes_held) * 100\n",
        "\n",
        "print(f\"Percentage of classes attended: {attendance_percentage:.2f}%\")\n",
        "\n",
        "medical_cause = input(\"Do you have a medical cause for low attendance? (Y/N): \")\n",
        "\n",
        "if attendance_percentage >= 75 or medical_cause.upper() == 'Y':\n",
        "    print(\"Allowed to sit in the exam.\")\n",
        "else:\n",
        "    print(\"Not allowed to sit in the exam.\")\n"
      ]
    },
    {
      "cell_type": "markdown",
      "metadata": {
        "id": "zbjvMxzD8ieQ"
      },
      "source": [
        "16) Write a program to check if a year is leap year or not.\n",
        "\n",
        "If a year is divisible by 4 then it is leap year but if the year is century year like 2000, 1900, 2100 then it must be divisible by 400."
      ]
    },
    {
      "cell_type": "code",
      "execution_count": 17,
      "metadata": {
        "id": "Ra_zBNkO8ieQ",
        "colab": {
          "base_uri": "https://localhost:8080/"
        },
        "outputId": "c48e1ec5-4de8-4e5c-bee1-57c94228e97d"
      },
      "outputs": [
        {
          "output_type": "stream",
          "name": "stdout",
          "text": [
            "Enter a year: 2016\n",
            "2016 is a leap year.\n"
          ]
        }
      ],
      "source": [
        "year = int(input(\"Enter a year: \"))\n",
        "if (year % 400 == 0) or (year % 4 == 0):\n",
        "    print(f\"{year} is a leap year.\")\n",
        "else:\n",
        "    print(f\"{year} is not a leap year.\")\n"
      ]
    },
    {
      "cell_type": "markdown",
      "metadata": {
        "id": "jib0nB_U8ieQ"
      },
      "source": [
        "17) Ask user to enter age, gender ( M or F ), marital status ( Y or N ) and then using following rules print their place of service.\n",
        "\n",
        "if employee is female, then she will work only in urban areas.\n",
        "\n",
        "if employee is a male and age is in between 20 to 40 then he may work in anywhere\n",
        "\n",
        "if employee is male and age is in between 40 t0 60 then he will work in urban areas only.\n",
        "\n",
        "And any other input of age should print \"ERROR\""
      ]
    },
    {
      "cell_type": "code",
      "execution_count": 18,
      "metadata": {
        "id": "3qD-ziQ58ieQ",
        "colab": {
          "base_uri": "https://localhost:8080/"
        },
        "outputId": "beecf052-1241-4707-b1e5-8a96e647f19b"
      },
      "outputs": [
        {
          "output_type": "stream",
          "name": "stdout",
          "text": [
            "Enter your age: 22\n",
            "Enter your gender (M or F): F\n",
            "Enter your marital status (Y or N): N\n",
            "You will work only in urban areas.\n"
          ]
        }
      ],
      "source": [
        "age = int(input(\"Enter your age: \"))\n",
        "gender = input(\"Enter your gender (M or F): \")\n",
        "marital_status = input(\"Enter your marital status (Y or N): \")\n",
        "\n",
        "if gender == 'F':\n",
        "    print(\"You will work only in urban areas.\")\n",
        "elif gender == 'M':\n",
        "    if 20 <= age <= 40:\n",
        "        print(\"You may work anywhere.\")\n",
        "    elif 40 < age <= 60:\n",
        "        print(\"You will work in urban areas only.\")\n",
        "    else:\n",
        "        print(\"ERROR\")\n",
        "else:\n",
        "    print(\"ERROR\")\n"
      ]
    },
    {
      "cell_type": "markdown",
      "metadata": {
        "id": "K6EDzUWc8ieR"
      },
      "source": [
        "6) Write a program to calculate the electricity bill (accept number of unit from user) according to the following criteria :\n",
        "     Unit                                                     Price  \n",
        "uptp 100 units                                             no charge\n",
        "Next 200 units                                              Rs 5 per unit\n",
        "After 200 units                                             Rs 10 per unit\n",
        "(For example if input unit is 350 than total bill amount is Rs.3500\n",
        "(For example if input unit is 97 than total bill amount is Rs.0\n",
        "(For example if input unit is 150 than total bill amount is Rs.750"
      ]
    },
    {
      "cell_type": "code",
      "execution_count": 19,
      "metadata": {
        "id": "eB16SRcj8ieQ",
        "colab": {
          "base_uri": "https://localhost:8080/"
        },
        "outputId": "a098fb39-af1a-4fb3-892a-f442b55c6349"
      },
      "outputs": [
        {
          "output_type": "stream",
          "name": "stdout",
          "text": [
            "Enter the number of units consumed: 248\n",
            "Total bill amount is Rs.740\n"
          ]
        }
      ],
      "source": [
        "units = int(input(\"Enter the number of units consumed: \"))\n",
        "\n",
        "if units <= 100:\n",
        "    bill_amount = 0\n",
        "elif units <= 300:\n",
        "    bill_amount = (units - 100) * 5\n",
        "else:\n",
        "    bill_amount = 1000 + (units - 300) * 10\n",
        "\n",
        "print(f\"Total bill amount is Rs.{bill_amount}\")\n"
      ]
    },
    {
      "cell_type": "markdown",
      "metadata": {
        "id": "lM4SpXzt8ieR"
      },
      "source": [
        "13) Take input of age of 3 people by user and determine oldest and youngest among them."
      ]
    },
    {
      "cell_type": "code",
      "execution_count": 14,
      "metadata": {
        "id": "sBEiYskZ8ieR",
        "colab": {
          "base_uri": "https://localhost:8080/"
        },
        "outputId": "c763e0b1-f51d-44f9-8ccc-0cf5b7d8ff0a"
      },
      "outputs": [
        {
          "output_type": "stream",
          "name": "stdout",
          "text": [
            "Enter the age of the first person: 25\n",
            "Enter the age of the second person: 36\n",
            "Enter the age of the third person: 96\n",
            "The oldest person is 96 years old.\n",
            "The youngest person is 25 years old.\n"
          ]
        }
      ],
      "source": [
        "age1 = int(input(\"Enter the age of the first person: \"))\n",
        "age2 = int(input(\"Enter the age of the second person: \"))\n",
        "age3 = int(input(\"Enter the age of the third person: \"))\n",
        "\n",
        "oldest = max(age1, age2, age3)\n",
        "youngest = min(age1, age2, age3)\n",
        "\n",
        "print(f\"The oldest person is {oldest} years old.\")\n",
        "print(f\"The youngest person is {youngest} years old.\")\n"
      ]
    }
  ],
  "metadata": {
    "kernelspec": {
      "display_name": "Python 3 (ipykernel)",
      "language": "python",
      "name": "python3"
    },
    "language_info": {
      "codemirror_mode": {
        "name": "ipython",
        "version": 3
      },
      "file_extension": ".py",
      "mimetype": "text/x-python",
      "name": "python",
      "nbconvert_exporter": "python",
      "pygments_lexer": "ipython3",
      "version": "3.11.5"
    },
    "colab": {
      "provenance": []
    }
  },
  "nbformat": 4,
  "nbformat_minor": 0
}